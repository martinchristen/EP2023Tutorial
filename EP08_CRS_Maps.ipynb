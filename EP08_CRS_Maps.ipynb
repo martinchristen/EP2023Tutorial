{
 "cells": [
  {
   "cell_type": "markdown",
   "metadata": {},
   "source": [
    "# Coordinate Transformations & Creating Basic Maps\n",
    "\n",
    "\n",
    "\n",
    "## Coordinate Transformations using Pyproj\n",
    "\n",
    "\n",
    "<img src=\"https://pyproj4.github.io/pyproj/stable/_static/logo.png\" style=\"width: 200px;\"></img>\n",
    "\n",
    "Pyproj is a Python library that provides a set of tools and utilities for working with geospatial coordinate reference systems (CRS) and coordinate transformations. It is built on top of the PROJ library, which is a widely used open-source library for geospatial transformations.\n",
    "\n",
    "With Pyproj, you can perform various geospatial operations such as coordinate transformations: Pyproj can be used to transform coordinates between different CRS, including converting between geographic and projected CRS. This is useful for converting data between different coordinate systems, such as when working with data from different sources or when plotting data on a map.\n",
    "Pyproj can also be used to perform Geodetic calculations: Pyproj provides functions for performing geodetic calculations, such as calculating distances between points on the earth's surface, calculating azimuths and bearings, and performing geodetic intersections.\n",
    "\n",
    "\n",
    "https://pyproj4.github.io/pyproj/stable/api/proj.html\n",
    "\n",
    "\n",
    "### EPSG\n",
    "\n",
    "EPSG (European Petroleum Survey Group) codes are a standardized system for identifying coordinate reference systems (CRS) used in geospatial data. Each EPSG code represents a specific CRS, which defines how geographic coordinates (latitude and longitude) are projected onto a two-dimensional map or image.\n",
    "\n",
    "The EPSG system was developed by the European Petroleum Survey Group in the 1980s, but it is now maintained by the International Association of Oil & Gas Producers (IOGP). The EPSG registry contains thousands of codes for different CRSs, covering both commonly used and obscure projections.\n",
    "\n",
    "EPSG codes are widely used in many geospatial software applications, including GIS (Geographic Information Systems), remote sensing software, and web mapping services. They are useful for ensuring that data from different sources are correctly aligned, by specifying the correct CRS for each dataset.\n",
    "\n",
    "For example, the EPSG code **4326** represents the WGS 84 CRS, which is a common CRS used for GPS coordinates. The EPSG code **3857** represents the Web Mercator CRS, which is widely used in web mapping applications.\n",
    "\n",
    "\n",
    "Some common EPSG codes are:\n",
    "\n",
    "* EPSG:4326 - WGS 84 - This is a geographic coordinate system commonly used for GPS data and represents the world in latitude and longitude.\n",
    "* EPSG:3857 - Web Mercator - This is a projected coordinate system used by many web mapping applications, including Google Maps and OpenStreetMap.\n",
    "* EPSG:26918 - UTM Zone 18N - This is a projected coordinate system commonly used in North America for mapping at a regional scale.\n",
    "* EPSG:32618 - WGS 84 / UTM Zone 18N - This is a hybrid coordinate system that combines the geographic coordinate system of WGS 84 with the projected coordinate system of UTM Zone 18N.\n",
    "* EPSG:3035 - ETRS89 / LAEA Europe - This is a projected coordinate system used for mapping in Europe.\n",
    "* EPSG:3857 - Pseudo-Mercator - This is a variant of the Web Mercator coordinate system used by many mapping applications.\n",
    "* EPSG:27700 - OSGB 1936 / British National Grid - This is a projected coordinate system used for mapping in the United Kingdom.\n",
    "* EPSG:2154 - RGF93 / Lambert-93 - This is a projected coordinate system used for mapping in France.\n",
    "* EPSG:4269 - NAD83 - This is a geographic coordinate system commonly used in North America for mapping at a national scale.\n"
   ]
  },
  {
   "cell_type": "code",
   "execution_count": null,
   "metadata": {},
   "outputs": [],
   "source": [
    "from download import download,unzip"
   ]
  },
  {
   "cell_type": "code",
   "execution_count": null,
   "metadata": {},
   "outputs": [],
   "source": [
    "import pyproj\n",
    "from pyproj import Transformer\n",
    "\n",
    "wgs84= \"epsg:4326\"\n",
    "lv95= \"epsg:2056\""
   ]
  },
  {
   "cell_type": "code",
   "execution_count": null,
   "metadata": {},
   "outputs": [],
   "source": [
    "transformer1 = Transformer.from_crs(\"epsg:4326\", \"epsg:2056\")\n",
    "\n",
    "r0 = transformer1.transform(47.3771216, 8.5391632)\n",
    "r0"
   ]
  },
  {
   "cell_type": "code",
   "execution_count": null,
   "metadata": {},
   "outputs": [],
   "source": [
    "transformer2 = Transformer.from_crs(\"epsg:2056\", \"epsg:4326\")\n",
    "\n",
    "r1 = transformer2.transform(2683111.9823819078, 1247947.5735251226)\n",
    "r1"
   ]
  },
  {
   "cell_type": "markdown",
   "metadata": {},
   "source": [
    "## Geodesic Line\n",
    "\n",
    "A geodesic line is the shortest path between two points on a curved surface, such as the surface of the earth. It is also known as a \"great circle\" or \"geodesic arc.\"\n",
    "\n",
    "On a flat surface, such as a piece of paper, the shortest path between two points is a straight line. However, on a curved surface like the earth, a straight line between two points is not the shortest distance. Instead, the shortest distance is along a curved line that follows the surface of the earth. This is known as a geodesic line.\n",
    "\n",
    "For example, if you wanted to travel from New York City to London, a straight line on a map would not be the shortest path, as the earth's surface is curved. Instead, the shortest path would be along a geodesic line that follows the curvature of the earth's surface. This is why airplanes flying between New York City and London typically follow a curved path.\n",
    "\n",
    "Geodesic lines can be calculated using geodetic calculations, which take into account the shape of the earth and the curvature of its surface. They are important in many applications, including navigation, surveying, and geodesy.\n",
    "\n",
    "https://en.wikipedia.org/wiki/Geodesic\n",
    "\n",
    "\n",
    "Example: Basel to New York"
   ]
  },
  {
   "cell_type": "code",
   "execution_count": null,
   "metadata": {},
   "outputs": [],
   "source": [
    "g = pyproj.Geod(ellps='WGS84')\n",
    "\n",
    "startlong = 7.587017313\n",
    "startlat = 47.563440530\n",
    "\n",
    "endlong = -74.001457\n",
    "endlat = 40.7094328\n",
    "\n",
    "lonlats = g.npts(startlong, startlat, endlong, endlat, 30)\n",
    "\n",
    "lonlats = [(startlong, startlat)] + lonlats +  [(endlong, endlat)]  ## add start and end point\n",
    "\n",
    "print(len(lonlats))\n",
    "print(lonlats)\n",
    "\n",
    "\"\"\"\n",
    "import geopandas as gpd\n",
    "import geoplot\n",
    "from shapely.geometry import Point\n",
    "\n",
    "geodesic = [Point(xy) for xy in zip(lonlats)]\n",
    "\"\"\"\n"
   ]
  },
  {
   "cell_type": "markdown",
   "metadata": {},
   "source": [
    "## Cartopy\n",
    "\n",
    "<img src=\"https://scitools.org.uk/cartopy/docs/latest/_static/cartopy.png\" style=\"width: 200px;\"></img>\n",
    "\n",
    "\n",
    "\n",
    "Cartopy is an open-source Python library designed for geospatial data processing and the creation of maps and visualizations. It is built on top of several other Python libraries, including NumPy, Shapely, and Matplotlib. Cartopy simplifies the process of working with geospatial data in Python and enables the generation of high-quality maps and geographic visualizations using familiar Matplotlib syntax.\n",
    "\n",
    "\n",
    "https://scitools.org.uk/cartopy/docs/latest/gallery/index.html\n",
    "\n",
    "\n",
    "### Cartographic projections\n",
    "\n",
    "Cartographic projections are mathematical transformations used to represent the three-dimensional Earth's surface onto a two-dimensional plane, such as a map or a computer screen. Since the Earth is not a perfect sphere but rather an oblate spheroid (slightly flattened at the poles), there is no perfect way to represent its surface on a flat plane without introducing some distortion.\n",
    "\n",
    "There are hundreds of different cartographic projections, each designed to serve specific purposes or to minimize distortion in certain aspects. However, all projections involve trade-offs between preserving area, shape, direction, distance, or scale.\n",
    "\n",
    "* **Conformal projections**: These projections preserve local angles and shapes. They are often used for navigational purposes, as they maintain the true compass bearing between any two points on the map. However, conformal projections distort areas, especially at high latitudes. Examples include the Mercator and Lambert Conformal Conic projections.\n",
    "\n",
    "* **Equal-area (equivalent) projections**: These projections preserve the relative sizes of areas, making them useful for comparing the sizes of different regions. However, they distort shapes and angles. Examples include the Albers Equal Area Conic, Lambert Azimuthal Equal Area, and Mollweide projections.\n",
    "\n",
    "* **Equidistant projections**: These projections preserve distances along certain lines, such as from the center point to any other point on the map. However, they generally distort shapes and areas. Examples include the Azimuthal Equidistant and Equidistant Cylindrical projections.\n"
   ]
  },
  {
   "cell_type": "code",
   "execution_count": null,
   "metadata": {},
   "outputs": [],
   "source": [
    "import matplotlib.pyplot as plt\n",
    "import numpy as np\n",
    "import cartopy.crs as ccrs\n",
    "import cartopy.feature as cfeature"
   ]
  },
  {
   "cell_type": "markdown",
   "metadata": {},
   "source": [
    "Cartopy provides access to several built-in base datasets that can be used as a foundation for creating maps and visualizations. These base datasets include features such as coastlines, borders, rivers, and graticules. These datasets are provided by Natural Earth (https://naturalearthdata.com/), the public domain map dataset we already know from a previous lecture. Cartopy uses and manages the data directly."
   ]
  },
  {
   "cell_type": "code",
   "execution_count": null,
   "metadata": {},
   "outputs": [],
   "source": [
    "plt.figure(figsize=(15, 9))\n",
    "ax = plt.axes(projection=ccrs.PlateCarree())\n",
    "ax.coastlines(resolution='50m') # \"110m\", \"50m\", and \"10m\"\n",
    "ax.gridlines()\n",
    "plt.show()"
   ]
  },
  {
   "cell_type": "markdown",
   "metadata": {},
   "source": [
    "In Cartopy, the projection parameter is used to define the coordinate reference system (CRS) in which the map will be displayed. A projection is a mathematical transformation that converts geographic coordinates (latitude and longitude) on a sphere or ellipsoid, such as the Earth, to a flat, two-dimensional plane. There are many different types of map projections, each with its own advantages and disadvantages depending on the intended use case.\n",
    "\n",
    "You can find a list of supported projections in the cartopy documentation: https://scitools.org.uk/cartopy/docs/latest/reference/crs.html#list-of-projections\n",
    "\n",
    "\n",
    "In each projection we can set various parameters, for example we could change the center of the map:"
   ]
  },
  {
   "cell_type": "code",
   "execution_count": null,
   "metadata": {},
   "outputs": [],
   "source": [
    "plt.figure(figsize=(15, 9))\n",
    "ax = plt.axes(projection=ccrs.PlateCarree(central_longitude=116.4))\n",
    "ax.coastlines(resolution='110m')\n",
    "ax.gridlines()\n",
    "plt.show()"
   ]
  },
  {
   "cell_type": "markdown",
   "metadata": {},
   "source": [
    "We can also add the natural earth shaded relief raster to the map:"
   ]
  },
  {
   "cell_type": "code",
   "execution_count": null,
   "metadata": {},
   "outputs": [],
   "source": [
    "plt.figure(figsize=(15, 9))\n",
    "ax = plt.axes(projection=ccrs.PlateCarree())\n",
    "ax.stock_img(); # Natural Earth shaded relief raster\n",
    "ax.coastlines(resolution='110m')\n",
    "plt.show()"
   ]
  },
  {
   "cell_type": "markdown",
   "metadata": {},
   "source": [
    "### Albers Equal Area\n",
    "\n",
    "Let's switch to another projection, lets use Albers Equal Area.\n",
    "\n",
    "The Albers Equal Area projection is a type of conic map projection that accurately represents area, meaning that it preserves the relative sizes of different regions on the map. It is particularly useful for mapping large countries or continents where area preservation is essential. The projection was named after Heinrich Christian Albers, a German mathematician who developed it in 1805."
   ]
  },
  {
   "cell_type": "code",
   "execution_count": null,
   "metadata": {},
   "outputs": [],
   "source": [
    "plt.figure(figsize=(15, 9))\n",
    "ax = plt.axes(projection=ccrs.AlbersEqualArea())\n",
    "ax.coastlines(resolution='110m')\n",
    "ax.gridlines()\n",
    "plt.show()"
   ]
  },
  {
   "cell_type": "markdown",
   "metadata": {},
   "source": [
    "### Mollweide projection\n",
    "\n",
    "The Mollweide projection, also known as the Babinet or Homalographic projection, is a pseudocylindrical map projection that preserves area while providing a visually balanced representation of the Earth. It was developed by Carl B. Mollweide, a German mathematician and astronomer, in 1805."
   ]
  },
  {
   "cell_type": "code",
   "execution_count": null,
   "metadata": {},
   "outputs": [],
   "source": [
    "plt.figure(figsize=(15, 9))\n",
    "ax = plt.axes(projection=ccrs.Mollweide())\n",
    "ax.coastlines(resolution='110m')\n",
    "ax.gridlines()\n",
    "plt.show()"
   ]
  },
  {
   "cell_type": "markdown",
   "metadata": {},
   "source": [
    "### Azimuthal Equidistant Projection\n",
    "\n",
    "The Azimuthal Equidistant projection is a planar map projection in which all points on the map are at proportionally correct distances from a single reference point, called the center or the projection's origin. This projection maintains accurate distances from the center to any other point on the map, making it useful for applications that require precise distance measurements from a specific location."
   ]
  },
  {
   "cell_type": "code",
   "execution_count": null,
   "metadata": {},
   "outputs": [],
   "source": [
    "plt.figure(figsize=(15, 9))\n",
    "ax = plt.axes(projection=ccrs.AzimuthalEquidistant(central_latitude=90))\n",
    "ax.coastlines(resolution='110m')\n",
    "ax.gridlines()\n",
    "plt.show()"
   ]
  },
  {
   "cell_type": "markdown",
   "metadata": {},
   "source": [
    "### Mercator Projection\n",
    "\n",
    "The Mercator projection is a cylindrical map projection developed by Gerardus Mercator, a Flemish cartographer, in 1569. It is one of the most widely recognized and used map projections, particularly for navigational charts and web mapping services like Google Maps.\n",
    "\n",
    "In the Mercator projection, the Earth's surface is projected onto a cylinder that is tangent to the equator. Meridians and parallels are represented as straight lines that are perpendicular to each other, creating a grid-like appearance. The spacing between the meridians remains constant, while the spacing between the parallels increases towards the poles."
   ]
  },
  {
   "cell_type": "code",
   "execution_count": null,
   "metadata": {},
   "outputs": [],
   "source": [
    "plt.figure(figsize=(15, 9))\n",
    "ax = plt.axes(projection=ccrs.Mercator(min_latitude=-85.0, max_latitude=85.0))\n",
    "ax.coastlines(resolution='110m')\n",
    "ax.gridlines()\n",
    "plt.show()"
   ]
  },
  {
   "cell_type": "markdown",
   "metadata": {},
   "source": [
    "### Tissot Indicatrix\n",
    "\n",
    "he Tissot Indicatrix (also known as Tissot's indicatrix or ellipse of distortion) is a graphical tool used to visualize the distortion introduced by a particular cartographic projection. It was developed by French mathematician Nicolas Auguste Tissot in the late 19th century.\n",
    "\n",
    "The Tissot Indicatrix consists of a series of circles (or, more precisely, infinitesimally small circles) drawn on the Earth's surface, which are then transformed onto the map using the cartographic projection being analyzed. Due to the distortions caused by the projection, the circles may appear as ellipses or even more complex shapes on the map. By analyzing the size, shape, and orientation of these transformed circles, one can assess the distortion characteristics of the projection.\n",
    "\n",
    "Cartopy provides functionality to draw the tissot indicatrix."
   ]
  },
  {
   "cell_type": "code",
   "execution_count": null,
   "metadata": {},
   "outputs": [],
   "source": [
    "lats = np.linspace(-75, 75, 6)\n",
    "lons = np.linspace(-160, 160, 10)\n",
    "\n",
    "plt.figure(figsize=(15, 9))\n",
    "ax = plt.axes(projection=ccrs.PlateCarree())\n",
    "ax.coastlines(resolution='50m') # \"110m\", \"50m\", and \"10m\"\n",
    "ax.gridlines()\n",
    "ax.tissot(lons=lons, lats=lats)\n",
    "plt.show()"
   ]
  },
  {
   "cell_type": "markdown",
   "metadata": {},
   "source": [
    "When drawing the tissot indicatrix on the mercator projection we see that circles remain circles. The mercator projection is a conformal projection."
   ]
  },
  {
   "cell_type": "code",
   "execution_count": null,
   "metadata": {},
   "outputs": [],
   "source": [
    "lats = np.linspace(-75, 75, 6)\n",
    "lons = np.linspace(-160, 160, 10)\n",
    "\n",
    "plt.figure(figsize=(15, 9))\n",
    "ax = plt.axes(projection=ccrs.Mercator(min_latitude=-85.0, max_latitude=85.0))\n",
    "ax.coastlines(resolution='110m')\n",
    "ax.gridlines()\n",
    "ax.tissot(lons=lons, lats=lats)\n",
    "plt.show()"
   ]
  },
  {
   "cell_type": "markdown",
   "metadata": {},
   "source": [
    "## Drawing on Maps\n",
    "\n",
    "### Simple plot"
   ]
  },
  {
   "cell_type": "code",
   "execution_count": null,
   "metadata": {},
   "outputs": [],
   "source": [
    "x = [7.58461]     # LONGITUDE\n",
    "y = [47.569517]   # LATITUDE\n",
    "\n",
    "plt.figure(figsize=(15, 9))\n",
    "ax = plt.axes(projection=ccrs.PlateCarree())\n",
    "ax.set_global() # you must specify this or you can't draw. You can also get an extent.\n",
    "ax.plot(x,y, color='blue', markersize=8, marker='o')\n",
    "ax.coastlines(resolution='110m')\n",
    "\n",
    "plt.show()"
   ]
  },
  {
   "cell_type": "markdown",
   "metadata": {},
   "source": [
    "### Drawing our geodetic line\n",
    "\n",
    "First let's create separate variables for longitude and latitude"
   ]
  },
  {
   "cell_type": "code",
   "execution_count": null,
   "metadata": {},
   "outputs": [],
   "source": [
    "xy = np.array(lonlats)\n",
    "lon = xy[:,0]\n",
    "lat = xy[:,1]\n",
    "\n",
    "print(lon)\n",
    "print(lat)"
   ]
  },
  {
   "cell_type": "markdown",
   "metadata": {},
   "source": [
    "Now put it on map:"
   ]
  },
  {
   "cell_type": "code",
   "execution_count": null,
   "metadata": {},
   "outputs": [],
   "source": [
    "plt.figure(figsize=(15, 9))\n",
    "ax = plt.axes(projection=ccrs.PlateCarree())\n",
    "ax.set_global() # you must specify this or you can't draw. You can also get an extent.\n",
    "ax.plot(lon,lat, color='blue', markersize=2, marker='o', linestyle = 'None')\n",
    "ax.coastlines(resolution='110m')\n",
    "\n",
    "plt.show()"
   ]
  },
  {
   "cell_type": "markdown",
   "metadata": {},
   "source": [
    "when we plot on other projectoins we have to specify a transform parameter during plot (or text)"
   ]
  },
  {
   "cell_type": "code",
   "execution_count": null,
   "metadata": {},
   "outputs": [],
   "source": [
    "roj=ccrs.Mercator(min_latitude=-85.0, max_latitude=85.0)\n",
    "\n",
    "x = [8.539418]\n",
    "y = [47.378115]\n",
    "name = \"Zürich\"\n",
    "\n",
    "plt.figure(figsize=(15, 9))\n",
    "\n",
    "proj=ccrs.Mercator(min_latitude=-85.0, max_latitude=85.0)\n",
    "ax = plt.axes(projection=proj)\n",
    "ax.set_global() \n",
    "ax.plot(x,y, color='blue', linewidth=2, marker='o', transform=ccrs.Geodetic())\n",
    "plt.text(x[0] + 12, y[0]+1, name, horizontalalignment='right', weight=\"bold\", color=\"red\", transform=ccrs.Geodetic())\n",
    "ax.coastlines(resolution='110m')\n",
    "\n",
    "plt.show()"
   ]
  },
  {
   "cell_type": "markdown",
   "metadata": {},
   "source": [
    "Extents"
   ]
  },
  {
   "cell_type": "code",
   "execution_count": null,
   "metadata": {},
   "outputs": [],
   "source": [
    "europe_extent = [-10, 60, 35, 70]"
   ]
  },
  {
   "cell_type": "code",
   "execution_count": null,
   "metadata": {},
   "outputs": [],
   "source": [
    "plt.figure(figsize=(15, 9))\n",
    "\n",
    "ax = plt.axes(projection=ccrs.PlateCarree())\n",
    "ax.set_extent(europe_extent, crs=ccrs.PlateCarree())\n",
    "\n",
    "ax.coastlines(resolution='110m')\n",
    "\n",
    "ax.plot(x,y, color='blue', linewidth=2, marker='o', transform=ccrs.PlateCarree())\n",
    "plt.text(x[0]+1.5 , y[0]+0.5, name, horizontalalignment='right', weight=\"bold\", color=\"red\", transform=ccrs.PlateCarree())\n",
    "\n",
    "plt.show()"
   ]
  },
  {
   "cell_type": "markdown",
   "metadata": {},
   "source": [
    "Or using the mercator projection:"
   ]
  },
  {
   "cell_type": "code",
   "execution_count": null,
   "metadata": {},
   "outputs": [],
   "source": [
    "plt.figure(figsize=(15, 9))\n",
    "\n",
    "proj=ccrs.Mercator(min_latitude=-85.0, max_latitude=85.0)\n",
    "ax = plt.axes(projection=proj)\n",
    "ax.set_extent(europe_extent, crs=ccrs.Geodetic())\n",
    "ax.plot(x,y, color='blue', linewidth=2, marker='o', transform=ccrs.Geodetic())\n",
    "plt.text(x[0]+2, y[0]+0.5, name, horizontalalignment='right', weight=\"bold\", color=\"red\", transform=ccrs.Geodetic())\n",
    "ax.coastlines(resolution='110m')\n",
    "\n",
    "plt.show()"
   ]
  }
 ],
 "metadata": {
  "kernelspec": {
   "display_name": "Python 3 (ipykernel)",
   "language": "python",
   "name": "python3"
  },
  "language_info": {
   "codemirror_mode": {
    "name": "ipython",
    "version": 3
   },
   "file_extension": ".py",
   "mimetype": "text/x-python",
   "name": "python",
   "nbconvert_exporter": "python",
   "pygments_lexer": "ipython3",
   "version": "3.10.10"
  }
 },
 "nbformat": 4,
 "nbformat_minor": 4
}
