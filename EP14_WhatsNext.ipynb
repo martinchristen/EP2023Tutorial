{
 "cells": [
  {
   "cell_type": "markdown",
   "id": "38a175a1-6ec8-4a7a-b83c-d23e06aec84a",
   "metadata": {},
   "source": [
    "## Whats next ?\n",
    "\n",
    "### Online Course\n",
    "\n",
    "I'm currently creating an online course with 30+ hours of videos and tons of notebooks.\n",
    "It will be finished in August 2023. \n",
    "\n",
    "If interested you can register interest at:\n",
    "\n",
    "https://www.geopython.xyz\n",
    "\n",
    "<img src=\"artwork/flyer.jpg\" width=\"50%\" />\n",
    "\n",
    " \n",
    "### GeoPython Conference\n",
    "\n",
    "Save the date: May 27-29 2024, Basel Switzerland\n",
    "\n",
    "https://2024.geopython.net  (available soon)\n",
    "\n",
    "Twitter: @GeoPythonConf\n",
    "\n",
    "### GeoHack (Hackathon)\n",
    "\n",
    "Save the date: May 30-31, 2024, Basel Switzerland\n",
    "\n",
    "https://2024.geohack.ch (available soon)\n"
   ]
  },
  {
   "cell_type": "code",
   "execution_count": null,
   "id": "efb00a45-0f3d-4292-9bdf-e6dd0780b586",
   "metadata": {},
   "outputs": [],
   "source": []
  }
 ],
 "metadata": {
  "kernelspec": {
   "display_name": "Python 3 (ipykernel)",
   "language": "python",
   "name": "python3"
  },
  "language_info": {
   "codemirror_mode": {
    "name": "ipython",
    "version": 3
   },
   "file_extension": ".py",
   "mimetype": "text/x-python",
   "name": "python",
   "nbconvert_exporter": "python",
   "pygments_lexer": "ipython3",
   "version": "3.10.10"
  }
 },
 "nbformat": 4,
 "nbformat_minor": 5
}
