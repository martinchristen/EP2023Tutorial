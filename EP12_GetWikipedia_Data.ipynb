{
 "cells": [
  {
   "cell_type": "markdown",
   "id": "41f104f5-b4d9-4f4a-82dc-c0753c8ee532",
   "metadata": {},
   "source": [
    "# Get Geodata from Wikipedia"
   ]
  },
  {
   "cell_type": "markdown",
   "id": "b143eeaf-e9b3-4966-b354-68cb40a40a7e",
   "metadata": {},
   "source": [
    "## Example 1: Get Nuclear Power Plants (in service)\n",
    "\n",
    "https://en.wikipedia.org/wiki/List_of_nuclear_power_stations"
   ]
  },
  {
   "cell_type": "code",
   "execution_count": 1,
   "id": "7e8fe2e3-5cb1-4b6f-923d-d4549f862992",
   "metadata": {},
   "outputs": [
    {
     "name": "stdout",
     "output_type": "stream",
     "text": [
      "8\n"
     ]
    }
   ],
   "source": [
    "import pandas as pd\n",
    "\n",
    "df = pd.read_html(\"https://en.wikipedia.org/wiki/List_of_nuclear_power_stations\")\n",
    "\n",
    "print(len(df))\n",
    "      "
   ]
  },
  {
   "cell_type": "code",
   "execution_count": 2,
   "id": "c55cfa1c-d316-4d75-9408-dc24c7be0daf",
   "metadata": {},
   "outputs": [
    {
     "data": {
      "text/html": [
       "<div>\n",
       "<style scoped>\n",
       "    .dataframe tbody tr th:only-of-type {\n",
       "        vertical-align: middle;\n",
       "    }\n",
       "\n",
       "    .dataframe tbody tr th {\n",
       "        vertical-align: top;\n",
       "    }\n",
       "\n",
       "    .dataframe thead th {\n",
       "        text-align: right;\n",
       "    }\n",
       "</style>\n",
       "<table border=\"1\" class=\"dataframe\">\n",
       "  <thead>\n",
       "    <tr style=\"text-align: right;\">\n",
       "      <th></th>\n",
       "      <th>Power station</th>\n",
       "      <th>No. of units</th>\n",
       "      <th>Net capacity under construction (MW)</th>\n",
       "      <th>Construction start</th>\n",
       "      <th>Planned connection</th>\n",
       "      <th>Country</th>\n",
       "      <th>Location</th>\n",
       "    </tr>\n",
       "  </thead>\n",
       "  <tbody>\n",
       "    <tr>\n",
       "      <th>0</th>\n",
       "      <td>Akkuyu</td>\n",
       "      <td>4</td>\n",
       "      <td>4456</td>\n",
       "      <td>2015</td>\n",
       "      <td>2023</td>\n",
       "      <td>Turkey</td>\n",
       "      <td>36°08′40″N 33°32′28″E﻿ / ﻿36.14444°N 33.54111°E</td>\n",
       "    </tr>\n",
       "    <tr>\n",
       "      <th>1</th>\n",
       "      <td>El Dabaa</td>\n",
       "      <td>1</td>\n",
       "      <td>1194</td>\n",
       "      <td>2022</td>\n",
       "      <td>2026</td>\n",
       "      <td>Egypt</td>\n",
       "      <td>31°2′39″N 28°29′52″E﻿ / ﻿31.04417°N 28.49778°E</td>\n",
       "    </tr>\n",
       "    <tr>\n",
       "      <th>2</th>\n",
       "      <td>Hinkley Point C</td>\n",
       "      <td>2</td>\n",
       "      <td>3300</td>\n",
       "      <td>2018</td>\n",
       "      <td>2027</td>\n",
       "      <td>United Kingdom</td>\n",
       "      <td>51°12′22″N 3°8′38″W﻿ / ﻿51.20611°N 3.14389°W</td>\n",
       "    </tr>\n",
       "    <tr>\n",
       "      <th>3</th>\n",
       "      <td>Ōma</td>\n",
       "      <td>1</td>\n",
       "      <td>1325</td>\n",
       "      <td>2010</td>\n",
       "      <td>2028</td>\n",
       "      <td>Japan</td>\n",
       "      <td>41°30′35″N 140°54′37″E﻿ / ﻿41.50972°N 140.91028°E</td>\n",
       "    </tr>\n",
       "    <tr>\n",
       "      <th>4</th>\n",
       "      <td>Rooppur</td>\n",
       "      <td>2</td>\n",
       "      <td>2160</td>\n",
       "      <td>2017</td>\n",
       "      <td>2024</td>\n",
       "      <td>Bangladesh</td>\n",
       "      <td>24°4′0″N 89°2′50″E﻿ / ﻿24.06667°N 89.04722°E</td>\n",
       "    </tr>\n",
       "    <tr>\n",
       "      <th>5</th>\n",
       "      <td>San’ao[18][19][20]</td>\n",
       "      <td>2</td>\n",
       "      <td>2234</td>\n",
       "      <td>2020</td>\n",
       "      <td>2026</td>\n",
       "      <td>China</td>\n",
       "      <td>27°12′5″N 120°30′56″E﻿ / ﻿27.20139°N 120.51556°E</td>\n",
       "    </tr>\n",
       "    <tr>\n",
       "      <th>6</th>\n",
       "      <td>Xudabao</td>\n",
       "      <td>2</td>\n",
       "      <td>2400</td>\n",
       "      <td>2021</td>\n",
       "      <td>2028</td>\n",
       "      <td>China</td>\n",
       "      <td>40°21′5″N 120°32′47″E﻿ / ﻿40.35139°N 120.54639°E</td>\n",
       "    </tr>\n",
       "    <tr>\n",
       "      <th>7</th>\n",
       "      <td>Vogtle (expansion)</td>\n",
       "      <td>2</td>\n",
       "      <td>2234</td>\n",
       "      <td>2012</td>\n",
       "      <td>2024</td>\n",
       "      <td>United States</td>\n",
       "      <td>40°21′5″N 120°32′47″E﻿ / ﻿40.35139°N 120.54639°E</td>\n",
       "    </tr>\n",
       "    <tr>\n",
       "      <th>8</th>\n",
       "      <td>Zhangzhou</td>\n",
       "      <td>2</td>\n",
       "      <td>2252</td>\n",
       "      <td>2019</td>\n",
       "      <td>2024</td>\n",
       "      <td>China</td>\n",
       "      <td>23°49′45″N 117°29′30″E﻿ / ﻿23.82917°N 117.49167°E</td>\n",
       "    </tr>\n",
       "  </tbody>\n",
       "</table>\n",
       "</div>"
      ],
      "text/plain": [
       "        Power station  No. of units  Net capacity under construction (MW)  \\\n",
       "0              Akkuyu             4                                  4456   \n",
       "1            El Dabaa             1                                  1194   \n",
       "2     Hinkley Point C             2                                  3300   \n",
       "3                 Ōma             1                                  1325   \n",
       "4             Rooppur             2                                  2160   \n",
       "5  San’ao[18][19][20]             2                                  2234   \n",
       "6             Xudabao             2                                  2400   \n",
       "7  Vogtle (expansion)             2                                  2234   \n",
       "8           Zhangzhou             2                                  2252   \n",
       "\n",
       "   Construction start  Planned connection         Country  \\\n",
       "0                2015                2023          Turkey   \n",
       "1                2022                2026           Egypt   \n",
       "2                2018                2027  United Kingdom   \n",
       "3                2010                2028           Japan   \n",
       "4                2017                2024      Bangladesh   \n",
       "5                2020                2026           China   \n",
       "6                2021                2028           China   \n",
       "7                2012                2024   United States   \n",
       "8                2019                2024           China   \n",
       "\n",
       "                                            Location  \n",
       "0    36°08′40″N 33°32′28″E﻿ / ﻿36.14444°N 33.54111°E  \n",
       "1     31°2′39″N 28°29′52″E﻿ / ﻿31.04417°N 28.49778°E  \n",
       "2       51°12′22″N 3°8′38″W﻿ / ﻿51.20611°N 3.14389°W  \n",
       "3  41°30′35″N 140°54′37″E﻿ / ﻿41.50972°N 140.91028°E  \n",
       "4       24°4′0″N 89°2′50″E﻿ / ﻿24.06667°N 89.04722°E  \n",
       "5   27°12′5″N 120°30′56″E﻿ / ﻿27.20139°N 120.51556°E  \n",
       "6   40°21′5″N 120°32′47″E﻿ / ﻿40.35139°N 120.54639°E  \n",
       "7   40°21′5″N 120°32′47″E﻿ / ﻿40.35139°N 120.54639°E  \n",
       "8  23°49′45″N 117°29′30″E﻿ / ﻿23.82917°N 117.49167°E  "
      ]
     },
     "execution_count": 2,
     "metadata": {},
     "output_type": "execute_result"
    }
   ],
   "source": [
    "df[2]"
   ]
  },
  {
   "cell_type": "code",
   "execution_count": 3,
   "id": "b4064ce2-3816-446c-bb30-8ab6001ee462",
   "metadata": {},
   "outputs": [],
   "source": [
    "df[1].to_csv(\"geodata/powerplants.csv\")"
   ]
  },
  {
   "cell_type": "code",
   "execution_count": 4,
   "id": "eac0f62f-1c18-49e4-9986-7a61f0777f4b",
   "metadata": {},
   "outputs": [],
   "source": [
    "def removenote(s,k=120):\n",
    "    for i in range(1,k+1):\n",
    "        s = s.replace(f\"[note {i}]\",\"\")\n",
    "        s = s.replace(f\"[dp {i}]\",\"\")\n",
    "    return s"
   ]
  },
  {
   "cell_type": "code",
   "execution_count": 5,
   "id": "cfa8bd54-5b22-4d81-a580-6058b45746b7",
   "metadata": {},
   "outputs": [],
   "source": [
    "def numbersonly(s):\n",
    "    return \"\".join(ch for ch in s if ch in \"0123456789 .\")"
   ]
  },
  {
   "cell_type": "code",
   "execution_count": 7,
   "id": "69cb8a75-af58-439e-a13f-68c1fe38dbfb",
   "metadata": {},
   "outputs": [],
   "source": [
    "import string\n",
    "import csv\n",
    "\n",
    "file = open(\"geodata/powerplants.csv\", encoding=\"utf-8\")\n",
    "outfile = open(\"geodata/powerplants2023.csv\", \"w\", encoding=\"utf-8\")\n",
    "\n",
    "outfile.write(\"id,name,units,capacity,country,geometry\\n\")\n",
    "\n",
    "reader = csv.reader(file)\n",
    "next(reader)\n",
    "\n",
    "for line in reader:  \n",
    "    uid = line[0]\n",
    "    name = line[1]\n",
    "    units = removenote(line[2])\n",
    "    capacity = removenote(line[3])\n",
    "    capacity = capacity.replace(\",\",\".\")\n",
    "    country = line[4]\n",
    "    \n",
    "    pos = line[5]\n",
    "    pos = numbersonly(pos)\n",
    "    while pos.startswith(\".\") or pos.startswith(\" \"):\n",
    "        pos = pos[1:]\n",
    "   \n",
    "    lnglat = pos.split(\" \")\n",
    "    lat = float(lnglat[3])\n",
    "    lng = float(lnglat[4])\n",
    "    geometry = f\"POINT ({lng} {lat})\"\n",
    "        \n",
    "    outfile.write(f\"{uid},{name},{units},{capacity},{country},{geometry}\\n\")\n",
    "\n",
    "file.close()\n",
    "outfile.close()"
   ]
  },
  {
   "cell_type": "code",
   "execution_count": 8,
   "id": "c4661e2a-97e0-40a5-ac94-ea3f1f6d9902",
   "metadata": {},
   "outputs": [],
   "source": [
    "import geopandas as gpd\n",
    "import pandas as pd\n",
    "from shapely import wkt\n",
    "\n",
    "df = pd.read_csv(\"geodata/powerplants2023.csv\", encoding=\"utf-8\")\n",
    "\n",
    "df['geometry'] = df['geometry'].apply(wkt.loads)\n",
    "\n",
    "gdf = gpd.GeoDataFrame(df, geometry=\"geometry\")"
   ]
  },
  {
   "cell_type": "code",
   "execution_count": 9,
   "id": "83275f26-8c56-45a6-b811-13ddf74583b4",
   "metadata": {},
   "outputs": [
    {
     "data": {
      "text/html": [
       "<div>\n",
       "<style scoped>\n",
       "    .dataframe tbody tr th:only-of-type {\n",
       "        vertical-align: middle;\n",
       "    }\n",
       "\n",
       "    .dataframe tbody tr th {\n",
       "        vertical-align: top;\n",
       "    }\n",
       "\n",
       "    .dataframe thead th {\n",
       "        text-align: right;\n",
       "    }\n",
       "</style>\n",
       "<table border=\"1\" class=\"dataframe\">\n",
       "  <thead>\n",
       "    <tr style=\"text-align: right;\">\n",
       "      <th></th>\n",
       "      <th>id</th>\n",
       "      <th>name</th>\n",
       "      <th>units</th>\n",
       "      <th>capacity</th>\n",
       "      <th>country</th>\n",
       "      <th>geometry</th>\n",
       "    </tr>\n",
       "  </thead>\n",
       "  <tbody>\n",
       "    <tr>\n",
       "      <th>48</th>\n",
       "      <td>48</td>\n",
       "      <td>Dukovany</td>\n",
       "      <td>4</td>\n",
       "      <td>1878.0</td>\n",
       "      <td>Czech Republic</td>\n",
       "      <td>POINT (16.14889 49.08500)</td>\n",
       "    </tr>\n",
       "    <tr>\n",
       "      <th>155</th>\n",
       "      <td>155</td>\n",
       "      <td>Temelín</td>\n",
       "      <td>2</td>\n",
       "      <td>2056.0</td>\n",
       "      <td>Czech Republic</td>\n",
       "      <td>POINT (14.37611 49.18000)</td>\n",
       "    </tr>\n",
       "  </tbody>\n",
       "</table>\n",
       "</div>"
      ],
      "text/plain": [
       "      id      name  units  capacity         country                   geometry\n",
       "48    48  Dukovany      4    1878.0  Czech Republic  POINT (16.14889 49.08500)\n",
       "155  155   Temelín      2    2056.0  Czech Republic  POINT (14.37611 49.18000)"
      ]
     },
     "execution_count": 9,
     "metadata": {},
     "output_type": "execute_result"
    }
   ],
   "source": [
    "gdf.query('country == \"Czech Republic\"')"
   ]
  },
  {
   "cell_type": "markdown",
   "id": "d317de9e-4eb7-4eb8-a429-90681bb3b0d1",
   "metadata": {},
   "source": [
    "Export to GeoJSON:"
   ]
  },
  {
   "cell_type": "code",
   "execution_count": 10,
   "id": "d504e373-b1ce-460b-9692-88c9e100226f",
   "metadata": {},
   "outputs": [],
   "source": [
    "geojson = gdf.to_json()\n",
    "file = open(\"geodata/powerplants2023.json\", \"w\", encoding=\"utf-8\")\n",
    "file.write(geojson)\n",
    "file.close()"
   ]
  },
  {
   "cell_type": "markdown",
   "id": "35d40edc-8215-4495-8ebb-a7c14ba8fde5",
   "metadata": {},
   "source": [
    "## Example 2: Get Highest Mountain Peaks"
   ]
  },
  {
   "cell_type": "code",
   "execution_count": 12,
   "id": "027d3f7a-b3f7-4c8e-9d38-45dfd1e18276",
   "metadata": {},
   "outputs": [
    {
     "name": "stdout",
     "output_type": "stream",
     "text": [
      "3\n"
     ]
    }
   ],
   "source": [
    "df = pd.read_html(\"https://en.wikipedia.org/wiki/List_of_highest_mountains_on_Earth\")\n",
    "print(len(df))"
   ]
  },
  {
   "cell_type": "code",
   "execution_count": 13,
   "id": "3239a94b-01c3-43dd-abd4-9bb660cf23b4",
   "metadata": {},
   "outputs": [],
   "source": [
    "df[2].to_csv(\"geodata/mountainpeaks.csv\")  # index may change..."
   ]
  },
  {
   "cell_type": "code",
   "execution_count": 14,
   "id": "7452a6c1-fdb2-46d7-9623-292ca130b613",
   "metadata": {},
   "outputs": [],
   "source": [
    "import string\n",
    "import csv\n",
    "\n",
    "file = open(\"geodata/mountainpeaks.csv\", encoding=\"utf-8\")\n",
    "outfile = open(\"geodata/mountainpeaks2023.csv\", \"w\", encoding=\"utf-8\")\n",
    "\n",
    "outfile.write(\"id,name,height,country,geometry\\n\")\n",
    "\n",
    "reader = csv.reader(file)\n",
    "next(reader)\n",
    "next(reader)\n",
    "next(reader)\n",
    "\n",
    "for line in reader:  \n",
    "    uid = line[0]\n",
    "    name = line[2]\n",
    "    height = removenote(line[3])\n",
    "    country = removenote(line[13])\n",
    "    country = country.replace(\",\",\"/\")\n",
    "\n",
    "    pos = line[8]\n",
    "    pos = numbersonly(pos)\n",
    "    while pos.startswith(\".\") or pos.startswith(\" \"):\n",
    "        pos = pos[1:]\n",
    "        \n",
    "    lnglat = pos.split(\" \")\n",
    "    lat = float(lnglat[3])\n",
    "    lng = float(lnglat[4])\n",
    "    geometry = f\"POINT ({lng} {lat})\"\n",
    "        \n",
    "    outfile.write(f\"{uid},{name},{height},{country},{geometry}\\n\")\n",
    "\n",
    "file.close()\n",
    "outfile.close()"
   ]
  },
  {
   "cell_type": "code",
   "execution_count": null,
   "id": "bd3703a8-1237-477d-9fba-c918f544db3f",
   "metadata": {},
   "outputs": [],
   "source": []
  }
 ],
 "metadata": {
  "kernelspec": {
   "display_name": "Python 3 (ipykernel)",
   "language": "python",
   "name": "python3"
  },
  "language_info": {
   "codemirror_mode": {
    "name": "ipython",
    "version": 3
   },
   "file_extension": ".py",
   "mimetype": "text/x-python",
   "name": "python",
   "nbconvert_exporter": "python",
   "pygments_lexer": "ipython3",
   "version": "3.10.10"
  }
 },
 "nbformat": 4,
 "nbformat_minor": 5
}
