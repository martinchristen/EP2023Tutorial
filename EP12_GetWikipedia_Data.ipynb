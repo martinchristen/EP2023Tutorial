{
 "cells": [
  {
   "cell_type": "markdown",
   "id": "41f104f5-b4d9-4f4a-82dc-c0753c8ee532",
   "metadata": {},
   "source": [
    "# Get Geodata from Wikipedia"
   ]
  },
  {
   "cell_type": "markdown",
   "id": "b143eeaf-e9b3-4966-b354-68cb40a40a7e",
   "metadata": {},
   "source": [
    "## Example 1: Get Nuclear Power Plants (in service)\n",
    "\n",
    "https://en.wikipedia.org/wiki/List_of_nuclear_power_stations"
   ]
  },
  {
   "cell_type": "code",
   "execution_count": null,
   "id": "7e8fe2e3-5cb1-4b6f-923d-d4549f862992",
   "metadata": {},
   "outputs": [],
   "source": [
    "import pandas as pd\n",
    "\n",
    "df = pd.read_html(\"https://en.wikipedia.org/wiki/List_of_nuclear_power_stations\")\n",
    "\n",
    "print(len(df))\n",
    "      "
   ]
  },
  {
   "cell_type": "code",
   "execution_count": null,
   "id": "c55cfa1c-d316-4d75-9408-dc24c7be0daf",
   "metadata": {},
   "outputs": [],
   "source": [
    "df[2]"
   ]
  },
  {
   "cell_type": "code",
   "execution_count": null,
   "id": "b4064ce2-3816-446c-bb30-8ab6001ee462",
   "metadata": {},
   "outputs": [],
   "source": [
    "df[1].to_csv(\"geodata/powerplants.csv\")"
   ]
  },
  {
   "cell_type": "code",
   "execution_count": null,
   "id": "eac0f62f-1c18-49e4-9986-7a61f0777f4b",
   "metadata": {},
   "outputs": [],
   "source": [
    "def removenote(s,k=120):\n",
    "    for i in range(1,k+1):\n",
    "        s = s.replace(f\"[note {i}]\",\"\")\n",
    "        s = s.replace(f\"[dp {i}]\",\"\")\n",
    "    return s"
   ]
  },
  {
   "cell_type": "code",
   "execution_count": null,
   "id": "cfa8bd54-5b22-4d81-a580-6058b45746b7",
   "metadata": {},
   "outputs": [],
   "source": [
    "def numbersonly(s):\n",
    "    return \"\".join(ch for ch in s if ch in \"0123456789 .\")"
   ]
  },
  {
   "cell_type": "code",
   "execution_count": null,
   "id": "69cb8a75-af58-439e-a13f-68c1fe38dbfb",
   "metadata": {},
   "outputs": [],
   "source": [
    "import string\n",
    "import csv\n",
    "\n",
    "file = open(\"geodata/powerplants.csv\", encoding=\"utf-8\")\n",
    "outfile = open(\"geodata/powerplants2023.csv\", \"w\", encoding=\"utf-8\")\n",
    "\n",
    "outfile.write(\"id,name,units,capacity,country,geometry\\n\")\n",
    "\n",
    "reader = csv.reader(file)\n",
    "next(reader)\n",
    "\n",
    "for line in reader:  \n",
    "    uid = line[0]\n",
    "    name = line[1]\n",
    "    units = removenote(line[2])\n",
    "    capacity = removenote(line[3])\n",
    "    capacity = capacity.replace(\",\",\".\")\n",
    "    country = line[4]\n",
    "    \n",
    "    pos = line[5]\n",
    "    pos = numbersonly(pos)\n",
    "    while pos.startswith(\".\") or pos.startswith(\" \"):\n",
    "        pos = pos[1:]\n",
    "   \n",
    "    lnglat = pos.split(\" \")\n",
    "    lat = float(lnglat[3])\n",
    "    lng = float(lnglat[4])\n",
    "    geometry = f\"POINT ({lng} {lat})\"\n",
    "        \n",
    "    outfile.write(f\"{uid},{name},{units},{capacity},{country},{geometry}\\n\")\n",
    "\n",
    "file.close()\n",
    "outfile.close()"
   ]
  },
  {
   "cell_type": "code",
   "execution_count": null,
   "id": "c4661e2a-97e0-40a5-ac94-ea3f1f6d9902",
   "metadata": {},
   "outputs": [],
   "source": [
    "import geopandas as gpd\n",
    "import pandas as pd\n",
    "from shapely import wkt\n",
    "\n",
    "df = pd.read_csv(\"geodata/powerplants2023.csv\", encoding=\"utf-8\")\n",
    "\n",
    "df['geometry'] = df['geometry'].apply(wkt.loads)\n",
    "\n",
    "gdf = gpd.GeoDataFrame(df, geometry=\"geometry\")"
   ]
  },
  {
   "cell_type": "code",
   "execution_count": null,
   "id": "83275f26-8c56-45a6-b811-13ddf74583b4",
   "metadata": {},
   "outputs": [],
   "source": [
    "gdf.query('country == \"Czech Republic\"')"
   ]
  },
  {
   "cell_type": "markdown",
   "id": "d317de9e-4eb7-4eb8-a429-90681bb3b0d1",
   "metadata": {},
   "source": [
    "Export to GeoJSON:"
   ]
  },
  {
   "cell_type": "code",
   "execution_count": null,
   "id": "d504e373-b1ce-460b-9692-88c9e100226f",
   "metadata": {},
   "outputs": [],
   "source": [
    "geojson = gdf.to_json()\n",
    "file = open(\"geodata/powerplants2023.json\", \"w\", encoding=\"utf-8\")\n",
    "file.write(geojson)\n",
    "file.close()"
   ]
  },
  {
   "cell_type": "markdown",
   "id": "35d40edc-8215-4495-8ebb-a7c14ba8fde5",
   "metadata": {},
   "source": [
    "## Example 2: Get Highest Mountain Peaks"
   ]
  },
  {
   "cell_type": "code",
   "execution_count": null,
   "id": "027d3f7a-b3f7-4c8e-9d38-45dfd1e18276",
   "metadata": {},
   "outputs": [],
   "source": [
    "df = pd.read_html(\"https://en.wikipedia.org/wiki/List_of_highest_mountains_on_Earth\")\n",
    "print(len(df))"
   ]
  },
  {
   "cell_type": "code",
   "execution_count": null,
   "id": "3239a94b-01c3-43dd-abd4-9bb660cf23b4",
   "metadata": {},
   "outputs": [],
   "source": [
    "df[2].to_csv(\"geodata/mountainpeaks.csv\")  # index may change..."
   ]
  },
  {
   "cell_type": "code",
   "execution_count": null,
   "id": "7452a6c1-fdb2-46d7-9623-292ca130b613",
   "metadata": {},
   "outputs": [],
   "source": [
    "import string\n",
    "import csv\n",
    "\n",
    "file = open(\"geodata/mountainpeaks.csv\", encoding=\"utf-8\")\n",
    "outfile = open(\"geodata/mountainpeaks2023.csv\", \"w\", encoding=\"utf-8\")\n",
    "\n",
    "outfile.write(\"id,name,height,country,geometry\\n\")\n",
    "\n",
    "reader = csv.reader(file)\n",
    "next(reader)\n",
    "next(reader)\n",
    "next(reader)\n",
    "\n",
    "for line in reader:  \n",
    "    uid = line[0]\n",
    "    name = line[2]\n",
    "    height = removenote(line[3])\n",
    "    country = removenote(line[13])\n",
    "    country = country.replace(\",\",\"/\")\n",
    "\n",
    "    pos = line[8]\n",
    "    pos = numbersonly(pos)\n",
    "    while pos.startswith(\".\") or pos.startswith(\" \"):\n",
    "        pos = pos[1:]\n",
    "        \n",
    "    lnglat = pos.split(\" \")\n",
    "    lat = float(lnglat[3])\n",
    "    lng = float(lnglat[4])\n",
    "    geometry = f\"POINT ({lng} {lat})\"\n",
    "        \n",
    "    outfile.write(f\"{uid},{name},{height},{country},{geometry}\\n\")\n",
    "\n",
    "file.close()\n",
    "outfile.close()"
   ]
  },
  {
   "cell_type": "code",
   "execution_count": null,
   "id": "bd3703a8-1237-477d-9fba-c918f544db3f",
   "metadata": {},
   "outputs": [],
   "source": []
  }
 ],
 "metadata": {
  "kernelspec": {
   "display_name": "Python 3 (ipykernel)",
   "language": "python",
   "name": "python3"
  },
  "language_info": {
   "codemirror_mode": {
    "name": "ipython",
    "version": 3
   },
   "file_extension": ".py",
   "mimetype": "text/x-python",
   "name": "python",
   "nbconvert_exporter": "python",
   "pygments_lexer": "ipython3",
   "version": "3.10.10"
  }
 },
 "nbformat": 4,
 "nbformat_minor": 5
}
