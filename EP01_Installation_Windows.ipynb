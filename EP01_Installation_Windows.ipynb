{
 "cells": [
  {
   "cell_type": "markdown",
   "metadata": {},
   "source": [
    "# Installing JupyterLab, Scientific & Geospatial Modules\n",
    "\n",
    "## Installation for Windows"
   ]
  },
  {
   "cell_type": "markdown",
   "metadata": {},
   "source": [
    "There are basically 2 variants how to install modules required for this course\n",
    "\n",
    "\n",
    "All variants basically use conda and/or its ecosystem.\n",
    "\n",
    "Conda is an open source, cross-platform package management system and languageagnostic\n",
    "package management system. It is published by Continuum Analytics under the\n",
    "BSD license. Conda allows users to easily install various versions of binary software\n",
    "packages and any libraries suitable for their computer platform. It also allows users to\n",
    "switch between package versions and download and install software repository updates.\n",
    "Virtual Environments are a good way to handle different Python Versions and different\n",
    "module versions. It is also very easy to switch from one to another virtual environment.\n",
    "Virtual Environments can be created in the Anaconda Prompt.\n",
    "\n",
    "\n",
    "<hr/>\n",
    "\n",
    "<div class=\"alert alert-block alert-info\"> <b>Variant 1: Install using Anaconda</b> <br/><br/>\n",
    "\n",
    "Get the latest Version for Windows here:\n",
    "\n",
    "https://www.anaconda.com/products/distribution#Downloads\n",
    "\n",
    "Install the latest Version for your operating system. This will take a while.\n",
    "\n",
    "</div>\n",
    "\n",
    "<hr/>\n",
    "\n",
    "<div class=\"alert alert-block alert-info\"> <b>Variant 2: Install using Miniconda (recommended)</b> <br/><br/>\n",
    "\n",
    "Download the installer here: https://docs.conda.io/en/latest/miniconda.html\n",
    "\n",
    "</div>\n",
    "\n",
    "\n",
    "\n",
    " \n",
    "\n",
    "<hr/>"
   ]
  },
  {
   "cell_type": "markdown",
   "metadata": {},
   "source": [
    "#### Install Mamba\n",
    "\n",
    "https://github.com/mamba-org/mamba\n",
    "\n",
    "Follow instructions here:\n",
    "\n",
    "https://mamba.readthedocs.io/en/latest/installation.html\n",
    "\n",
    "You can also install mamba in an existing Anaconda/Miniconda installation: \n",
    "\n",
    "    conda install mamba -n base -c conda-forge\n",
    "        \n",
    "After installation use the \"mamba\" instead of \"conda\" command."
   ]
  },
  {
   "cell_type": "markdown",
   "metadata": {},
   "source": [
    "## Installing the Python Geospatial Stack\n",
    "\n",
    "There are several ways to install a proper environment with all geospatial modules. The easiest is by using conda and its virtual environments. \n",
    "\n",
    "## Installing GDAL and dependencies\n",
    "\n",
    "The Geospatial Data Abstraction Library (GDAL) is a Library to manage geospatial raster\n",
    "data. The library uses an abstracted data model to handle raster data such as ASCII Grid\n",
    "files, GeoTIFF, JPEG, etc. Information about the library can be obtained at https://www.gdal.org/.\n",
    "The OGR Simple Features Library is part of GDAL and supports Vector Data. OGR used to\n",
    "stand for OpenGIS Simple Features Reference Implementation. Because OGR is not fully\n",
    "compliant to OpenGIS the name is now \"OGR Simple Features Library\" and OGR has no\n",
    "meaning anymore.\n",
    "OGR Simple Features library provides an abstracted data model for handling different\n",
    "vector data formats such as ESRI Shapefiles, KML, Geospatial PDF, etc.\n",
    "The GDAL library is written in C/C++ and has a Python binding. Installation can be quite\n",
    "hard on Windows and MacOS as the library has many dependencies. Today GDAL is available in the\n",
    "standard conda repository and installation is quite easy. For the installation of all georelated\n",
    "packages, we create a new virtual environment.\n",
    "\n",
    "## Creating our Geospatial Virtual Environment\n",
    "\n",
    "\n",
    "Let's create our environment where we will install all the modules we need in this course.\n",
    "\n",
    "    \n",
    "    mamba create --name geopython310 python=3.10 jupyterlab –c conda-forge -y    \n",
    "    \n",
    "    mamba activate geopython310          \n",
    "\n",
    "    mamba install gdal rasterio matplotlib geopandas geoplot folium osmnx pystac-client scikit-image pymongo geojson -c conda-forge -y  \n",
    "    folium\n",
    "\n",
    "Do this everytime from now on:\n",
    "\n",
    "    (You can ommit the notebook-dir or set to another path.)\n",
    "\n",
    "    mamba activate geopython310\n",
    "    jupyter lab --notebook-dir C:\\notebooks\n",
    "    "
   ]
  },
  {
   "cell_type": "code",
   "execution_count": null,
   "metadata": {},
   "outputs": [],
   "source": []
  }
 ],
 "metadata": {
  "kernelspec": {
   "display_name": "Python 3 (ipykernel)",
   "language": "python",
   "name": "python3"
  },
  "language_info": {
   "codemirror_mode": {
    "name": "ipython",
    "version": 3
   },
   "file_extension": ".py",
   "mimetype": "text/x-python",
   "name": "python",
   "nbconvert_exporter": "python",
   "pygments_lexer": "ipython3",
   "version": "3.10.10"
  }
 },
 "nbformat": 4,
 "nbformat_minor": 4
}
