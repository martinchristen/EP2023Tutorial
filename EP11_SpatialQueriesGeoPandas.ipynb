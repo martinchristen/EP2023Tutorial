{
 "cells": [
  {
   "cell_type": "markdown",
   "id": "82066c52-4568-4a4e-8a3c-142a7e59e0cc",
   "metadata": {},
   "source": [
    "# Spatial Queries with Geopandas"
   ]
  },
  {
   "cell_type": "code",
   "execution_count": null,
   "id": "4d2690cb-a36c-4d9d-9c87-2bae72c03a9d",
   "metadata": {},
   "outputs": [],
   "source": [
    "import geopandas as gpd\n",
    "from shapely.geometry import Polygon"
   ]
  },
  {
   "cell_type": "code",
   "execution_count": null,
   "id": "be29feb8-5fc1-4e02-9655-a54342eb03ca",
   "metadata": {},
   "outputs": [],
   "source": [
    "import geoplot as gplt"
   ]
  },
  {
   "cell_type": "code",
   "execution_count": null,
   "id": "3790cec9-0fde-4567-a834-c4b89ad628bb",
   "metadata": {},
   "outputs": [],
   "source": [
    "import geoplot.crs as gcrs"
   ]
  },
  {
   "cell_type": "code",
   "execution_count": null,
   "id": "b3638ea0-15e5-4935-a479-158f20bc826c",
   "metadata": {},
   "outputs": [],
   "source": [
    "gdf = gpd.read_file(\"geodata/packages/natural_earth_vector.gpkg\", layer='ne_10m_admin_0_countries')"
   ]
  },
  {
   "cell_type": "markdown",
   "id": "3ba88977-ef5c-4f7c-8f55-80008c397217",
   "metadata": {},
   "source": [
    "## Queries with Polygons\n",
    "\n",
    "Let's create polygon covering some part of Europe:"
   ]
  },
  {
   "cell_type": "code",
   "execution_count": null,
   "id": "b280fc40-915b-4d5e-9c50-858a94a2517a",
   "metadata": {},
   "outputs": [],
   "source": [
    "polygon = Polygon([(-10, 35), (-10, 60), (40, 60), (40, 35)]) # this is our polygon\n"
   ]
  },
  {
   "cell_type": "markdown",
   "id": "fd1cd02f-4fca-48a8-86dd-42a504b331b6",
   "metadata": {},
   "source": [
    "### Display the polygon and our vector file\n",
    "\n",
    "To understand what we're doing let's display our data using Geoplot"
   ]
  },
  {
   "cell_type": "code",
   "execution_count": null,
   "id": "f5b06b17-7dcd-4967-b19a-36e18ba07593",
   "metadata": {},
   "outputs": [],
   "source": [
    "polygon_gseries = gpd.GeoSeries(polygon)\n",
    "polygon_gdf = gpd.GeoDataFrame(geometry=polygon_gseries,crs=\"EPSG:4326\") \n",
    "\n",
    "ax = gplt.polyplot(gdf, projection=gcrs.PlateCarree(), figsize=(10, 10))\n",
    "gplt.polyplot(polygon_gdf, ax=ax, facecolor='none', edgecolor='red', linewidth=2)\n",
    "ax.set_xlim([-180, 180])\n",
    "ax.set_ylim([-90, 90]);"
   ]
  },
  {
   "cell_type": "markdown",
   "id": "67ca6eb0-720e-4289-9e32-c5fdee5d75f4",
   "metadata": {},
   "source": [
    "### Within"
   ]
  },
  {
   "cell_type": "code",
   "execution_count": null,
   "id": "34f69856-1003-4fda-b283-baf475f9bd67",
   "metadata": {},
   "outputs": [],
   "source": [
    "gdf_within_polygon = gdf[gdf.within(polygon)]"
   ]
  },
  {
   "cell_type": "code",
   "execution_count": null,
   "id": "bbe22c41-0b73-49dc-ae9b-41bc4f847d84",
   "metadata": {},
   "outputs": [],
   "source": [
    "ax = gplt.polyplot(gdf, projection=gcrs.PlateCarree(), figsize=(10, 10))\n",
    "gplt.polyplot(polygon_gdf, ax=ax, facecolor='none', edgecolor='red', linewidth=2)\n",
    "gplt.polyplot(gdf_within_polygon, ax=ax, edgecolor=\"green\")\n",
    "ax.set_xlim([-60, 60])\n",
    "ax.set_ylim([20, 80]);"
   ]
  },
  {
   "cell_type": "markdown",
   "id": "390a8e7f-7a11-44d3-ba33-f9ed619894df",
   "metadata": {},
   "source": [
    "### Contains\n",
    "\n",
    "In spatial analysis contains and within are two different spatial relationships:\n",
    "\n",
    "**contains**: Geometry A contains Geometry B if and only if all points of B are also points of A, and the interiors of A and B have at least one point in common. In other words, A contains B if B is completely inside A, including its boundary. In the context of polygons, Polygon A contains Polygon B if every vertex of B is inside A, and their interiors have at least one point in common.\n",
    "\n",
    "**within**: Geometry A is within Geometry B if and only if all points of A are also points of B, and the interiors of A and B have at least one point in common. In other words, A is within B if A is completely inside B, including its boundary. In the context of polygons, Polygon A is within Polygon B if every vertex of A is inside B, and their interiors have at least one point in common.\n",
    "\n"
   ]
  },
  {
   "cell_type": "code",
   "execution_count": null,
   "id": "76f59483-1f5b-46d1-aee4-d6431e837bf8",
   "metadata": {},
   "outputs": [],
   "source": [
    "gdf_contains_polygon = gdf[gdf.contains(polygon)]"
   ]
  },
  {
   "cell_type": "code",
   "execution_count": null,
   "id": "4d78d28f-cf9e-4e46-80cd-a3ab5e488170",
   "metadata": {},
   "outputs": [],
   "source": [
    "ax = gplt.polyplot(gdf, projection=gcrs.PlateCarree(), figsize=(10, 10))\n",
    "gplt.polyplot(polygon_gdf, ax=ax, facecolor='none', edgecolor='red', linewidth=2)\n",
    "gplt.polyplot(gdf_contains_polygon, ax=ax, edgecolor=\"green\")\n",
    "ax.set_xlim([-60, 60])\n",
    "ax.set_ylim([20, 80]);"
   ]
  },
  {
   "cell_type": "markdown",
   "id": "92df8c36-c4c7-42f9-a985-cd1ee48a3077",
   "metadata": {},
   "source": [
    "The Polygon is not within any other polygon, lets create a polygon which lies inside of France:"
   ]
  },
  {
   "cell_type": "code",
   "execution_count": null,
   "id": "599dbe5e-2c29-4a26-b805-fa8e5d11ea01",
   "metadata": {},
   "outputs": [],
   "source": [
    "polygon2 = Polygon([(4.75, 45.75), (5.25, 45.75), (5.25, 46.25), (4.75, 46.25), (4.75, 45.75)])\n"
   ]
  },
  {
   "cell_type": "markdown",
   "id": "a12abb0c-5e8a-40ee-a6dc-02d4b2908141",
   "metadata": {},
   "source": [
    "#### Let's display this new polygon\n",
    "\n",
    "The polygon is a small polygon **within** France. Remember, the query is to find all Polyons (countries) that **contain** this polygon."
   ]
  },
  {
   "cell_type": "code",
   "execution_count": null,
   "id": "4ee6410d-799e-477c-b649-090b5d9858ce",
   "metadata": {},
   "outputs": [],
   "source": [
    "polygon2_gseries = gpd.GeoSeries(polygon2)\n",
    "polygon2_gdf = gpd.GeoDataFrame(geometry=polygon2_gseries,crs=\"EPSG:4326\") \n",
    "\n",
    "ax = gplt.polyplot(gdf, projection=gcrs.PlateCarree(), figsize=(10, 10))\n",
    "gplt.polyplot(polygon2_gdf, ax=ax, facecolor='none', edgecolor='red', linewidth=1)\n",
    "ax.set_xlim([-30, 30])\n",
    "ax.set_ylim([40, 60]);"
   ]
  },
  {
   "cell_type": "markdown",
   "id": "0271f2f1-c7ab-4fbe-a5fe-2be9482c15cc",
   "metadata": {},
   "source": [
    "#### Do the \"within\" query with our new polygon2"
   ]
  },
  {
   "cell_type": "code",
   "execution_count": null,
   "id": "292c4f07-56b0-47a8-9bf5-ae5c60a5fef0",
   "metadata": {},
   "outputs": [],
   "source": [
    "gdf_contains_polygon2 = gdf[gdf.contains(polygon2)]"
   ]
  },
  {
   "cell_type": "code",
   "execution_count": null,
   "id": "6d874ccf-1f27-41bc-b6ac-c3fd08291134",
   "metadata": {},
   "outputs": [],
   "source": [
    "ax = gplt.polyplot(gdf, projection=gcrs.PlateCarree(), figsize=(10, 10))\n",
    "gplt.polyplot(polygon2_gdf, ax=ax, facecolor='none', edgecolor='red', linewidth=1)\n",
    "gplt.polyplot(gdf_contains_polygon2, ax=ax, edgecolor=\"green\")\n",
    "ax.set_xlim([-30, 30])\n",
    "ax.set_ylim([40, 60]);"
   ]
  },
  {
   "cell_type": "markdown",
   "id": "0d2a95dc-beb7-4f9e-bbe1-b3baee4797f6",
   "metadata": {},
   "source": [
    "#### Of course we can also output the Geodataframe of the result"
   ]
  },
  {
   "cell_type": "code",
   "execution_count": null,
   "id": "17649a86-ee8f-49c7-aae2-b861408dc250",
   "metadata": {},
   "outputs": [],
   "source": [
    "gdf_contains_polygon2"
   ]
  },
  {
   "cell_type": "markdown",
   "id": "839066be-b44b-4624-a2d9-9fbadb21525b",
   "metadata": {},
   "source": [
    "### Intersects\n",
    "\n",
    "Let's use our first polygon again for the intersection"
   ]
  },
  {
   "cell_type": "code",
   "execution_count": null,
   "id": "aadfdb55-1555-45ad-ab56-1a5dcaad99e7",
   "metadata": {},
   "outputs": [],
   "source": [
    "gdf_intersects_polygon = gdf[gdf.intersects(polygon)]"
   ]
  },
  {
   "cell_type": "code",
   "execution_count": null,
   "id": "452d9eaf-5824-4e40-84ce-907d12d13ec9",
   "metadata": {},
   "outputs": [],
   "source": [
    "ax = gplt.polyplot(gdf, projection=gcrs.PlateCarree(), figsize=(10, 10))\n",
    "gplt.polyplot(polygon_gdf, ax=ax, facecolor='none', edgecolor='red', linewidth=2)\n",
    "gplt.polyplot(gdf_intersects_polygon, ax=ax, edgecolor=\"green\")\n",
    "ax.set_xlim([-60, 60])\n",
    "ax.set_ylim([20, 80]);"
   ]
  },
  {
   "cell_type": "markdown",
   "id": "7f6cf56f-46d6-4463-b378-06bf20dbac36",
   "metadata": {},
   "source": [
    "## Distances\n",
    "\n",
    "Let's calculate the distances from the City of Basel, Switzerland to all countries in the dataset:"
   ]
  },
  {
   "cell_type": "code",
   "execution_count": null,
   "id": "23da9d85-1b3a-43f7-81e4-588777de90bc",
   "metadata": {},
   "outputs": [],
   "source": [
    "gdf = gpd.read_file(\"geodata/packages/natural_earth_vector.gpkg\", layer='ne_10m_admin_0_countries')"
   ]
  },
  {
   "cell_type": "code",
   "execution_count": null,
   "id": "20aa24dd-0a43-4ba2-a84f-9578177aa3c6",
   "metadata": {},
   "outputs": [],
   "source": []
  },
  {
   "cell_type": "code",
   "execution_count": null,
   "id": "c5696ba7-dbb3-4c87-bb64-6b76809a8b9c",
   "metadata": {},
   "outputs": [],
   "source": [
    "from shapely.geometry import Point\n",
    "\n",
    "basel = Point(7.5886, 47.5596)"
   ]
  },
  {
   "cell_type": "markdown",
   "id": "2c22cee4-9b67-4ca0-b4dd-76dd0987ca1d",
   "metadata": {},
   "source": [
    "To calculate distances, it's essential to use a suitable Coordinate Reference System (CRS) that allows for distance calculations in meters. \n",
    "\n",
    "One such CRS is the \"World Equidistant Cylindrical\" (EPSG:4087). \n",
    "\n",
    "Let's convert the original CRS of the GeoDataFrame and our Point to EPSG:4087:"
   ]
  },
  {
   "cell_type": "code",
   "execution_count": null,
   "id": "549f4994-aeb1-4657-8e8e-5935e76d2025",
   "metadata": {},
   "outputs": [],
   "source": [
    "gdf_meters = gdf.to_crs('EPSG:4087')\n",
    "basel_meters = gpd.GeoSeries(basel, crs='EPSG:4326').to_crs('EPSG:4087')\n",
    "basel_meters_gdf = gpd.GeoDataFrame([{'name': 'Basel'}], geometry=basel_meters)"
   ]
  },
  {
   "cell_type": "code",
   "execution_count": null,
   "id": "cfd9167a-99e6-455d-8eda-bd534e935271",
   "metadata": {},
   "outputs": [],
   "source": [
    "basel_meters_gdf"
   ]
  },
  {
   "cell_type": "code",
   "execution_count": null,
   "id": "f9c9534c-b861-4c0b-afee-8e930dc0d44f",
   "metadata": {},
   "outputs": [],
   "source": [
    "distances = gdf_meters.geometry.distance(basel_meters[0])"
   ]
  },
  {
   "cell_type": "code",
   "execution_count": null,
   "id": "530551ff-daa9-42d4-b4ef-bb1182dfe935",
   "metadata": {},
   "outputs": [],
   "source": [
    "distances"
   ]
  },
  {
   "cell_type": "code",
   "execution_count": null,
   "id": "28663289-053e-45cb-954e-98e9b4855d96",
   "metadata": {},
   "outputs": [],
   "source": [
    "gdf['distance_to_basel'] = distances / 1000  # save distance in km"
   ]
  },
  {
   "cell_type": "code",
   "execution_count": null,
   "id": "39f31bc0-914b-4b88-abd7-4deb9d375b4e",
   "metadata": {},
   "outputs": [],
   "source": [
    "gdf.head(5)"
   ]
  },
  {
   "cell_type": "code",
   "execution_count": null,
   "id": "6fb6e009-5546-4705-806a-a89d457c6df3",
   "metadata": {},
   "outputs": [],
   "source": [
    "gdf.sort_values(by=\"distance_to_basel\", ascending=True)"
   ]
  },
  {
   "cell_type": "code",
   "execution_count": null,
   "id": "83f4a764-832a-4357-a42d-b0694c03586c",
   "metadata": {},
   "outputs": [],
   "source": []
  }
 ],
 "metadata": {
  "kernelspec": {
   "display_name": "Python 3 (ipykernel)",
   "language": "python",
   "name": "python3"
  },
  "language_info": {
   "codemirror_mode": {
    "name": "ipython",
    "version": 3
   },
   "file_extension": ".py",
   "mimetype": "text/x-python",
   "name": "python",
   "nbconvert_exporter": "python",
   "pygments_lexer": "ipython3",
   "version": "3.10.10"
  }
 },
 "nbformat": 4,
 "nbformat_minor": 5
}
