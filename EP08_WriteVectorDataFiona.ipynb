{
 "cells": [
  {
   "cell_type": "markdown",
   "metadata": {},
   "source": [
    "# Writing Vector Data with Fiona\n",
    "\n",
    "Let's assume we have the following data and we want to create a vector dataset using Fiona:"
   ]
  },
  {
   "cell_type": "code",
   "execution_count": 1,
   "metadata": {},
   "outputs": [],
   "source": [
    "import fiona\n",
    "from fiona.crs import from_epsg"
   ]
  },
  {
   "cell_type": "code",
   "execution_count": 2,
   "metadata": {},
   "outputs": [],
   "source": [
    "data = [[45.922513343092916, 7.835574679184418,'Liskamm',4527],\n",
    "[45.941997570720375, 7.869820276613906,'Nordend',4609],\n",
    "[46.10902325837147, 7.863895545667632,'Nadelhorn',4327],\n",
    "[45.932186337151684, 7.8714190183674555,'Zumsteinspitze',4563],\n",
    "[46.08336532442726, 7.857296913890337,'Täschhorn',4491],\n",
    "[45.91669904679932, 7.863563975062021,'Ludwigshöhe',4341],\n",
    "[45.93756139078208, 7.299279971077615,'Grand Combin de Grafeneire',4314],\n",
    "[45.922513343092916, 7.835574679184418,'Lyskamm',4527],\n",
    "[45.93683662540408, 7.866814344981748,'Dufourspitze (Pointe Dufour)',4634],\n",
    "[46.10129664518156, 7.716156885858494,'Weisshorn',4506],\n",
    "[45.976340506120614, 7.658691510512221,'Monte Cervino',4478],\n",
    "[45.976340506120614, 7.658691510512221,'Matterhorn',4478],\n",
    "[45.93674004101607, 7.86855410887458,'Grenzgipfel',4618],\n",
    "[45.92712756883081, 7.876921984235257,'Signalkuppe (Punta Gnifetti)',4554],\n",
    "[46.093839189553464, 7.858928716434883,'Dom',4545],\n",
    "[46.107109586833495, 7.711724522200983,'Grand Gendarme',4331],\n",
    "[45.919638502715564, 7.8711910872756405,'Parrotspitze',4432],\n",
    "[46.093839189553464, 7.858928716434883,'Mischabel',4545],\n",
    "[46.03426257063022, 7.61204033560156,'Dent Blanche',4357]]"
   ]
  },
  {
   "cell_type": "markdown",
   "metadata": {},
   "source": [
    "### Creating a Schema\n"
   ]
  },
  {
   "cell_type": "code",
   "execution_count": 3,
   "metadata": {},
   "outputs": [],
   "source": [
    "mountain_peaks_schema = {\n",
    "    'geometry': 'Point',\n",
    "    \n",
    "    'properties' : {\n",
    "        \"name\": \"str\",\n",
    "        \"elevation\": \"float\",\n",
    "    },\n",
    "}\n",
    "    "
   ]
  },
  {
   "cell_type": "markdown",
   "metadata": {},
   "source": [
    "### Defining our Coordinate Reference System"
   ]
  },
  {
   "cell_type": "code",
   "execution_count": 4,
   "metadata": {},
   "outputs": [],
   "source": [
    "mountain_peaks_crs = from_epsg(4326) "
   ]
  },
  {
   "cell_type": "markdown",
   "metadata": {},
   "source": [
    "### Defining our Output Format"
   ]
  },
  {
   "cell_type": "code",
   "execution_count": 5,
   "metadata": {},
   "outputs": [
    {
     "data": {
      "text/plain": [
       "{'DXF': 'rw',\n",
       " 'CSV': 'raw',\n",
       " 'OpenFileGDB': 'raw',\n",
       " 'ESRIJSON': 'r',\n",
       " 'ESRI Shapefile': 'raw',\n",
       " 'FlatGeobuf': 'raw',\n",
       " 'GeoJSON': 'raw',\n",
       " 'GeoJSONSeq': 'raw',\n",
       " 'GPKG': 'raw',\n",
       " 'GML': 'rw',\n",
       " 'OGR_GMT': 'rw',\n",
       " 'GPX': 'rw',\n",
       " 'Idrisi': 'r',\n",
       " 'MapInfo File': 'raw',\n",
       " 'DGN': 'raw',\n",
       " 'PCIDSK': 'raw',\n",
       " 'OGR_PDS': 'r',\n",
       " 'S57': 'r',\n",
       " 'SQLite': 'raw',\n",
       " 'TopoJSON': 'r'}"
      ]
     },
     "execution_count": 5,
     "metadata": {},
     "output_type": "execute_result"
    }
   ],
   "source": [
    "fiona.supported_drivers"
   ]
  },
  {
   "cell_type": "code",
   "execution_count": 6,
   "metadata": {},
   "outputs": [],
   "source": [
    "driver = \"GPKG\""
   ]
  },
  {
   "cell_type": "markdown",
   "metadata": {},
   "source": [
    "### Creating File and Writing Data"
   ]
  },
  {
   "cell_type": "code",
   "execution_count": 7,
   "metadata": {},
   "outputs": [],
   "source": [
    "with fiona.open(\"geodata/peaks_fiona.gpkg\", \"w\", driver=driver, crs=mountain_peaks_crs, schema = mountain_peaks_schema) as c:\n",
    "    for record in data:\n",
    "        \n",
    "        longitude = record[1]\n",
    "        latitude = record[0]\n",
    "        name = record[2]\n",
    "        elevation = record[3]\n",
    "        \n",
    "        entry = {}\n",
    "        entry['geometry'] = { 'coordinates': (longitude, latitude), \n",
    "                              'type': 'Point' }\n",
    "        \n",
    "        entry['properties'] = {'name': name, \n",
    "                               'elevation': elevation } \n",
    "        \n",
    "\n",
    "        \n",
    "        c.write(entry)"
   ]
  },
  {
   "cell_type": "markdown",
   "metadata": {},
   "source": [
    "### Read our GPKG\n",
    "\n",
    "We could open our GPKG with QGIS\n",
    "\n",
    "or display all data in Python"
   ]
  },
  {
   "cell_type": "code",
   "execution_count": 8,
   "metadata": {},
   "outputs": [
    {
     "data": {
      "text/plain": [
       "['peaks_fiona']"
      ]
     },
     "execution_count": 8,
     "metadata": {},
     "output_type": "execute_result"
    }
   ],
   "source": [
    "layers = fiona.listlayers(\"geodata/peaks_fiona.gpkg\")\n",
    "layers"
   ]
  },
  {
   "cell_type": "code",
   "execution_count": 9,
   "metadata": {},
   "outputs": [
    {
     "name": "stdout",
     "output_type": "stream",
     "text": [
      "1 {'name': 'Liskamm', 'elevation': 4527.0} {'coordinates': (7.835574679184418, 45.922513343092916), 'type': 'Point', 'geometries': None}\n",
      "2 {'name': 'Nordend', 'elevation': 4609.0} {'coordinates': (7.869820276613906, 45.941997570720375), 'type': 'Point', 'geometries': None}\n",
      "3 {'name': 'Nadelhorn', 'elevation': 4327.0} {'coordinates': (7.863895545667632, 46.10902325837147), 'type': 'Point', 'geometries': None}\n",
      "4 {'name': 'Zumsteinspitze', 'elevation': 4563.0} {'coordinates': (7.8714190183674555, 45.932186337151684), 'type': 'Point', 'geometries': None}\n",
      "5 {'name': 'Täschhorn', 'elevation': 4491.0} {'coordinates': (7.857296913890337, 46.08336532442726), 'type': 'Point', 'geometries': None}\n",
      "6 {'name': 'Ludwigshöhe', 'elevation': 4341.0} {'coordinates': (7.863563975062021, 45.91669904679932), 'type': 'Point', 'geometries': None}\n",
      "7 {'name': 'Grand Combin de Grafeneire', 'elevation': 4314.0} {'coordinates': (7.299279971077615, 45.93756139078208), 'type': 'Point', 'geometries': None}\n",
      "8 {'name': 'Lyskamm', 'elevation': 4527.0} {'coordinates': (7.835574679184418, 45.922513343092916), 'type': 'Point', 'geometries': None}\n",
      "9 {'name': 'Dufourspitze (Pointe Dufour)', 'elevation': 4634.0} {'coordinates': (7.866814344981748, 45.93683662540408), 'type': 'Point', 'geometries': None}\n",
      "10 {'name': 'Weisshorn', 'elevation': 4506.0} {'coordinates': (7.716156885858494, 46.10129664518156), 'type': 'Point', 'geometries': None}\n",
      "11 {'name': 'Monte Cervino', 'elevation': 4478.0} {'coordinates': (7.658691510512221, 45.976340506120614), 'type': 'Point', 'geometries': None}\n",
      "12 {'name': 'Matterhorn', 'elevation': 4478.0} {'coordinates': (7.658691510512221, 45.976340506120614), 'type': 'Point', 'geometries': None}\n",
      "13 {'name': 'Grenzgipfel', 'elevation': 4618.0} {'coordinates': (7.86855410887458, 45.93674004101607), 'type': 'Point', 'geometries': None}\n",
      "14 {'name': 'Signalkuppe (Punta Gnifetti)', 'elevation': 4554.0} {'coordinates': (7.876921984235257, 45.92712756883081), 'type': 'Point', 'geometries': None}\n",
      "15 {'name': 'Dom', 'elevation': 4545.0} {'coordinates': (7.858928716434883, 46.093839189553464), 'type': 'Point', 'geometries': None}\n",
      "16 {'name': 'Grand Gendarme', 'elevation': 4331.0} {'coordinates': (7.711724522200983, 46.107109586833495), 'type': 'Point', 'geometries': None}\n",
      "17 {'name': 'Parrotspitze', 'elevation': 4432.0} {'coordinates': (7.8711910872756405, 45.919638502715564), 'type': 'Point', 'geometries': None}\n",
      "18 {'name': 'Mischabel', 'elevation': 4545.0} {'coordinates': (7.858928716434883, 46.093839189553464), 'type': 'Point', 'geometries': None}\n",
      "19 {'name': 'Dent Blanche', 'elevation': 4357.0} {'coordinates': (7.61204033560156, 46.03426257063022), 'type': 'Point', 'geometries': None}\n"
     ]
    }
   ],
   "source": [
    "with fiona.open(\"geodata/peaks_fiona.gpkg\", 'r') as c:\n",
    "    for peak in c:\n",
    "        props = dict(peak['properties'])\n",
    "        geom = dict(peak['geometry'])\n",
    "        id = peak['id']\n",
    "        print(id, props, geom)"
   ]
  },
  {
   "cell_type": "code",
   "execution_count": 10,
   "metadata": {},
   "outputs": [
    {
     "name": "stdout",
     "output_type": "stream",
     "text": [
      "{'properties': {'name': 'str', 'elevation': 'float'}, 'geometry': 'Point'}\n"
     ]
    }
   ],
   "source": [
    "c = fiona.open(\"geodata/peaks_fiona.gpkg\", 'r') \n",
    "print(c.schema)\n",
    "c.close()"
   ]
  },
  {
   "cell_type": "code",
   "execution_count": null,
   "metadata": {},
   "outputs": [],
   "source": []
  }
 ],
 "metadata": {
  "kernelspec": {
   "display_name": "Python 3 (ipykernel)",
   "language": "python",
   "name": "python3"
  },
  "language_info": {
   "codemirror_mode": {
    "name": "ipython",
    "version": 3
   },
   "file_extension": ".py",
   "mimetype": "text/x-python",
   "name": "python",
   "nbconvert_exporter": "python",
   "pygments_lexer": "ipython3",
   "version": "3.10.9"
  }
 },
 "nbformat": 4,
 "nbformat_minor": 4
}
