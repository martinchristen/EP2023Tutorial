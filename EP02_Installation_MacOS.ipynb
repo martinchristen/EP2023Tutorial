{
 "cells": [
  {
   "cell_type": "markdown",
   "metadata": {},
   "source": [
    "# Installing JupyterLab, Scientific & Geospatial Modules\n",
    "\n",
    "## Installation for MacOS"
   ]
  },
  {
   "cell_type": "markdown",
   "metadata": {},
   "source": [
    "There are basically 2 variants how to install modules required for this course\n",
    "\n",
    "\n",
    "All variants basically use conda and/or its ecosystem.\n",
    "\n",
    "Conda is an open source, cross-platform package management system and languageagnostic\n",
    "package management system. It is published by Continuum Analytics under the\n",
    "BSD license. Conda allows users to easily install various versions of binary software\n",
    "packages and any libraries suitable for their computer platform. It also allows users to\n",
    "switch between package versions and download and install software repository updates.\n",
    "Virtual Environments are a good way to handle different Python Versions and different\n",
    "module versions. It is also very easy to switch from one to another virtual environment.\n",
    "Virtual Environments can be created in the Terminal.\n",
    "\n",
    "\n",
    "<hr/>\n",
    "\n",
    "#### Variant 1: Install using Anaconda\n",
    "\n",
    "Get the latest Version for MacOS under the following link. The graphical installer is recommended.\n",
    "Download the \"M1\" Version if you have an ARM based Macs (otherwise the one with \"x86_64\" in the filename)\n",
    "\n",
    "https://www.anaconda.com/products/distribution#Downloads\n",
    "\n",
    "Install the latest Version for your operating system and let's continue\n",
    "\n",
    "<hr/>\n",
    "\n",
    "#### Variant 2: Install using Miniconda (recommended)\n",
    "\n",
    "Download the MacOS Version here here: https://docs.conda.io/en/latest/miniconda.html\n",
    "\n",
    "* Download and install \"**Miniconda3 macOS Intel x86 64-bit pkg**\" for Intel based Macs\n",
    "* Download and install \"**Miniconda3 macOS Apple M1 64-bit pkg**\" for ARM based Macs\n",
    "\n",
    "<hr/>"
   ]
  },
  {
   "cell_type": "markdown",
   "metadata": {},
   "source": [
    "#### Install Mamba\n",
    "\n",
    "Follow instructions here:\n",
    "\n",
    "https://mamba.readthedocs.io/en/latest/installation.html\n",
    "\n",
    "You can also install mamba in an existing Anaconda/Miniconda installation: \n",
    "\n",
    "    conda remove libarchive\n",
    "    conda install libarchive -n base -c conda-forge\n",
    "\n",
    "    conda install -n base --override-channels -c conda-forge mamba 'python_abi=*=*cp*'\n",
    "    mamba init\n",
    "    \n",
    "Restart your Terminal"
   ]
  },
  {
   "cell_type": "markdown",
   "metadata": {},
   "source": [
    "## Installing the Python Geospatial Stack\n",
    "\n",
    "There are several ways to install a proper environment with all geospatial modules. The easiest is by using conda and its virtual environments. \n",
    "\n",
    "## Installing GDAL and dependencies\n",
    "\n",
    "The Geospatial Data Abstraction Library (GDAL) is a Library to manage geospatial raster\n",
    "data. The library uses an abstracted data model to handle raster data such as ASCII Grid\n",
    "files, GeoTIFF, JPEG, etc. Information about the library can be obtained at https://www.gdal.org/.\n",
    "The OGR Simple Features Library is part of GDAL and supports Vector Data. OGR used to\n",
    "stand for OpenGIS Simple Features Reference Implementation. Because OGR is not fully\n",
    "compliant to OpenGIS the name is now \"OGR Simple Features Library\" and OGR has no\n",
    "meaning anymore.\n",
    "OGR Simple Features library provides an abstracted data model for handling different\n",
    "vector data formats such as ESRI Shapefiles, KML, Geospatial PDF, etc.\n",
    "The GDAL library is written in C/C++ and has a Python binding. Installation can be quite\n",
    "hard on Windows and MacOS as the library has many dependencies. Today GDAL is available in the\n",
    "standard conda repository and installation is quite easy. For the installation of all georelated\n",
    "packages, we create a new virtual environment.\n",
    "\n",
    "## Creating our Geospatial Virtual Environment\n",
    "\n",
    "\n",
    "Let's create our environment where we will install all the modules we need in this course.\n",
    "\n",
    "    \n",
    "    mamba create --name geopython310 python=3.10 jupyterlab –c conda-forge -y    \n",
    "    \n",
    "    mamba activate geopython310          \n",
    "\n",
    "    mamba install gdal rasterio matplotlib geopandas geoplot folium osmnx -c conda-forge -y  \n",
    "\n",
    "Do this everytime from now on:\n",
    "\n",
    "    (You can ommit the notebook-dir or set to another path.)\n",
    "\n",
    "    mamba activate geopython310\n",
    "    jupyter lab --notebook-dir /Users/username/notebooks/whereever\n",
    "\n"
   ]
  },
  {
   "cell_type": "markdown",
   "metadata": {},
   "source": [
    "## Install QGIS (optional)\n",
    "\n",
    "https://www.qgis.org/en/site/forusers/download.html"
   ]
  }
 ],
 "metadata": {
  "kernelspec": {
   "display_name": "Python 3 (ipykernel)",
   "language": "python",
   "name": "python3"
  },
  "language_info": {
   "codemirror_mode": {
    "name": "ipython",
    "version": 3
   },
   "file_extension": ".py",
   "mimetype": "text/x-python",
   "name": "python",
   "nbconvert_exporter": "python",
   "pygments_lexer": "ipython3",
   "version": "3.10.10"
  }
 },
 "nbformat": 4,
 "nbformat_minor": 4
}
