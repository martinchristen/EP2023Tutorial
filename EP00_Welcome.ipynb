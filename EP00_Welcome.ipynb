{
 "cells": [
  {
   "cell_type": "markdown",
   "id": "c5d6c1ec-b658-4025-8d47-786176d708ad",
   "metadata": {},
   "source": [
    "# Geospatial Data Processing in Python: A Comprehensive Tutorial\n",
    "\n",
    "Prof. Martin Christen<br/>\n",
    "University of Applied Sciences and Arts Northwestern Switzerland<br/>\n",
    "martin.christen@fhnw.ch<br/>\n",
    "\n",
    "<img src=\"artwork/flyer.jpg\" width=\"30%\" />\n",
    "\n",
    "<div class=\"alert alert-block alert-info\"> <b>GitHub:</b> <a href=\"https://github.com/martinchristen/EP2023Tutorial\">github.com/martinchristen/EP2023Tutorial</a> </div>\n",
    "\n",
    "\n",
    "Schedule:\n",
    "\n",
    "July 17, 2023\n",
    "\n",
    "* Part I (90 min) 13:45 - 15:15 Club A\n",
    "* Coffee Break: 15:15 - 15:30\n",
    "* Part II (90 min) 15:30 - 17:00 Club A\n",
    "\n",
    "https://ep2023.europython.eu/session/geospatial-data-processing-in-python-a-comprehensive-tutorial\n"
   ]
  },
  {
   "cell_type": "code",
   "execution_count": null,
   "id": "025587aa-553a-4a6f-a1fe-70584d4f0b1f",
   "metadata": {},
   "outputs": [],
   "source": []
  }
 ],
 "metadata": {
  "kernelspec": {
   "display_name": "Python 3 (ipykernel)",
   "language": "python",
   "name": "python3"
  },
  "language_info": {
   "codemirror_mode": {
    "name": "ipython",
    "version": 3
   },
   "file_extension": ".py",
   "mimetype": "text/x-python",
   "name": "python",
   "nbconvert_exporter": "python",
   "pygments_lexer": "ipython3",
   "version": "3.10.10"
  }
 },
 "nbformat": 4,
 "nbformat_minor": 5
}
