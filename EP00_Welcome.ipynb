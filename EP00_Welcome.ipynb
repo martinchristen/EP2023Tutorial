{
 "cells": [
  {
   "cell_type": "markdown",
   "id": "c5d6c1ec-b658-4025-8d47-786176d708ad",
   "metadata": {},
   "source": [
    "# Geospatial Data Processing in Python: A Comprehensive Tutorial\n",
    "\n",
    "https://github.com/martinchristen/EP2023Tutorial\n",
    "\n",
    "https://ep2023.europython.eu/session/geospatial-data-processing-in-python-a-comprehensive-tutorial\n",
    "\n",
    "Schedule:\n",
    "\n",
    "July 17, 2023\n",
    "\n",
    "* Part I (90 min) 13:45 - 15:15 Club A\n",
    "* Coffee Break: 15:15 - 15:30\n",
    "* Part II (90 min) 15:30 - 17:00 Club A\n"
   ]
  },
  {
   "cell_type": "code",
   "execution_count": null,
   "id": "bd1139e0-0172-4ba4-98fa-8ed89e7a5c12",
   "metadata": {},
   "outputs": [],
   "source": []
  }
 ],
 "metadata": {
  "kernelspec": {
   "display_name": "Python 3 (ipykernel)",
   "language": "python",
   "name": "python3"
  },
  "language_info": {
   "codemirror_mode": {
    "name": "ipython",
    "version": 3
   },
   "file_extension": ".py",
   "mimetype": "text/x-python",
   "name": "python",
   "nbconvert_exporter": "python",
   "pygments_lexer": "ipython3",
   "version": "3.10.10"
  }
 },
 "nbformat": 4,
 "nbformat_minor": 5
}
