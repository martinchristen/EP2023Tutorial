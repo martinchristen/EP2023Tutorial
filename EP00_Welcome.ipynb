{
 "cells": [
  {
   "cell_type": "markdown",
   "id": "c5d6c1ec-b658-4025-8d47-786176d708ad",
   "metadata": {},
   "source": [
    "# Geospatial Data Processing in Python: A Comprehensive Tutorial\n",
    "\n",
    "https://ep2023.europython.eu/session/geospatial-data-processing-in-python-a-comprehensive-tutorial\n",
    "\n",
    "<div class=\"alert alert-block alert-info\"> <b>GitHub:</b> <a href=\"https://github.com/martinchristen/EP2023Tutorial\">github.com/martinchristen/EP2023Tutorial</a> </div>\n",
    "\n",
    "\n",
    "\n",
    "\n",
    "\n",
    "\n",
    "\n",
    "Schedule:\n",
    "\n",
    "July 17, 2023\n",
    "\n",
    "* Part I (90 min) 13:45 - 15:15 Club A\n",
    "* Coffee Break: 15:15 - 15:30\n",
    "* Part II (90 min) 15:30 - 17:00 Club A\n"
   ]
  },
  {
   "cell_type": "markdown",
   "id": "3281ffd6-9984-4a43-8a09-38858458f4ed",
   "metadata": {},
   "source": [
    "<div class=\"alert alert-block alert-info\"> <b>NOTE</b> Use blue boxes for Tips and notes. </div>\n",
    "\n",
    "<div class=\"alert alert-block alert-success\"> Use green boxes sparingly, and only for some specific purpose that the other boxes can't cover. For example, if you have a lot of related content to link to, maybe you decide to use green boxes for related links from each section of a notebook. </div>\n",
    "\n",
    "<div class=\"alert alert-block alert-warning\"> Use yellow boxes for examples that are not inside code cells, or use for mathematical formulas if needed. </div>\n",
    "\n",
    "<div class=\"alert alert-block alert-danger\"> In general, just avoid the red boxes. </div>"
   ]
  },
  {
   "cell_type": "code",
   "execution_count": null,
   "id": "fb98ec02-18c7-4a36-b9ae-a33f9ca151cd",
   "metadata": {},
   "outputs": [],
   "source": []
  }
 ],
 "metadata": {
  "kernelspec": {
   "display_name": "Python 3 (ipykernel)",
   "language": "python",
   "name": "python3"
  },
  "language_info": {
   "codemirror_mode": {
    "name": "ipython",
    "version": 3
   },
   "file_extension": ".py",
   "mimetype": "text/x-python",
   "name": "python",
   "nbconvert_exporter": "python",
   "pygments_lexer": "ipython3",
   "version": "3.10.10"
  }
 },
 "nbformat": 4,
 "nbformat_minor": 5
}
