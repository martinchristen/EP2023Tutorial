{
 "cells": [
  {
   "cell_type": "markdown",
   "id": "c5d6c1ec-b658-4025-8d47-786176d708ad",
   "metadata": {},
   "source": [
    "# Geospatial Data Processing in Python: A Comprehensive Tutorial\n",
    "\n",
    "Prof. Martin Christen<br/>\n",
    "University of Applied Sciences and Arts Northwestern Switzerland<br/>\n",
    "martin.christen@fhnw.ch<br/>\n",
    "\n",
    "<img src=\"artwork/flyer.jpg\" width=\"30%\" />\n",
    "\n",
    "<div class=\"alert alert-block alert-info\"> <b>GitHub:</b><br/> <a href=\"https://github.com/martinchristen/EP2023Tutorial\">github.com/martinchristen/EP2023Tutorial</a> \n",
    "<br/>\n",
    "<br/>\n",
    "<a href=\"https://tinyurl.com/geoep2023\">https://tinyurl.com/geoep2023</a>\n",
    "\n",
    "</div>\n",
    "\n",
    "\n",
    "Schedule:\n",
    "\n",
    "July 17, 2023\n",
    "\n",
    "* Part I (90 min) 13:45 - 15:15 Club A\n",
    "* Coffee Break: 15:15 - 15:30\n",
    "* Part II (90 min) 15:30 - 17:00 Club A\n",
    "\n",
    "https://ep2023.europython.eu/session/geospatial-data-processing-in-python-a-comprehensive-tutorial\n"
   ]
  },
  {
   "cell_type": "markdown",
   "id": "be9d4ddf-0698-4484-9ab9-a754543b9e02",
   "metadata": {},
   "source": [
    "<div class=\"alert alert-block alert-danger\">\n",
    "<b>Warnings</b><br/><br/>\n",
    "To run everything you need about 25 GB on your disk (where the notebooks are located)<br/>\n",
    "We need to download a couple GB during this tutorial<br/>\n",
    "Please <b>don't execute</b> EP13_OSMnx.ipynb during the conference. OpenStreetMap will probably ban/restrict the conference IP.<br/>\n",
    "</div>"
   ]
  },
  {
   "cell_type": "code",
   "execution_count": null,
   "id": "74e8641b-48c8-4860-8ec9-5d6bc4e8e656",
   "metadata": {},
   "outputs": [],
   "source": []
  }
 ],
 "metadata": {
  "kernelspec": {
   "display_name": "Python 3 (ipykernel)",
   "language": "python",
   "name": "python3"
  },
  "language_info": {
   "codemirror_mode": {
    "name": "ipython",
    "version": 3
   },
   "file_extension": ".py",
   "mimetype": "text/x-python",
   "name": "python",
   "nbconvert_exporter": "python",
   "pygments_lexer": "ipython3",
   "version": "3.10.10"
  }
 },
 "nbformat": 4,
 "nbformat_minor": 5
}
